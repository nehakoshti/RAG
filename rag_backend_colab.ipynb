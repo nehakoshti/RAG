{
 "cells": [
  {
   "cell_type": "code",
   "execution_count": 2,
   "id": "656ae728",
   "metadata": {},
   "outputs": [
    {
     "name": "stderr",
     "output_type": "stream",
     "text": [
      "WARNING: You are using pip version 21.2.3; however, version 25.1.1 is available.\n",
      "You should consider upgrading via the 'D:\\LLM Projects\\RAG\\env\\Scripts\\python.exe -m pip install --upgrade pip' command.\n"
     ]
    }
   ],
   "source": [
    "# Install dependencies\n",
    "!pip install faiss-cpu sentence-transformers transformers langchain streamlit accelerate -q\n",
    "\n",
    "from transformers import pipeline\n",
    "from sentence_transformers import SentenceTransformer\n",
    "from langchain.vectorstores import FAISS\n",
    "from langchain.embeddings import HuggingFaceEmbeddings\n",
    "from langchain.text_splitter import CharacterTextSplitter\n",
    "from langchain.document_loaders import PyPDFLoader\n",
    "from langchain.chains import RetrievalQA\n",
    "from langchain.llms import HuggingFacePipeline\n",
    "import torch, os, shutil"
   ]
  },
  {
   "cell_type": "code",
   "execution_count": 3,
   "id": "66836a57",
   "metadata": {},
   "outputs": [],
   "source": [
    "\n",
    "\n",
    "# 1. Load PDF and Split\n",
    "def load_and_split_document(path):\n",
    "    loader = PyPDFLoader(path)\n",
    "    docs = loader.load()\n",
    "    splitter = CharacterTextSplitter(chunk_size=1000, chunk_overlap=200)\n",
    "    return splitter.split_documents(docs)\n",
    "\n",
    "# 2. Create Vector Store\n",
    "def create_vector_store(docs):\n",
    "    embeddings = HuggingFaceEmbeddings(model_name=\"sentence-transformers/all-MiniLM-L6-v2\")\n",
    "    vectorstore = FAISS.from_documents(docs, embeddings)\n",
    "    return vectorstore\n",
    "\n",
    "# 3. Save vector store\n",
    "def save_vectorstore(vectorstore, folder=\"faiss_index\"):\n",
    "    if os.path.exists(folder):\n",
    "        shutil.rmtree(folder)\n",
    "    vectorstore.save_local(folder)\n",
    "\n",
    "# 4. Load vector store\n",
    "def load_vectorstore(folder=\"faiss_index\"):\n",
    "    embeddings = HuggingFaceEmbeddings(model_name=\"sentence-transformers/all-MiniLM-L6-v2\")\n",
    "    return FAISS.load_local(folder, embeddings, allow_dangerous_deserialization=True)\n",
    "\n",
    "# 5. Load HuggingFace LLM\n",
    "def get_hf_pipeline():\n",
    "    pipe = pipeline(\n",
    "        \"text2text-generation\",\n",
    "        model=\"google/flan-t5-base\",\n",
    "        tokenizer=\"google/flan-t5-base\",\n",
    "        max_length=512,\n",
    "        device=0 if torch.cuda.is_available() else -1\n",
    "    )\n",
    "    return HuggingFacePipeline(pipeline=pipe)\n",
    "\n",
    "# 6. QA Chain\n",
    "def build_qa_chain(vectorstore):\n",
    "    llm = get_hf_pipeline()\n",
    "    qa = RetrievalQA.from_chain_type(llm=llm, retriever=vectorstore.as_retriever(), chain_type=\"stuff\")\n",
    "    return qa\n",
    "\n",
    "# Example (Uncomment to Test)\n",
    "# docs = load_and_split_document(\"/content/sample.pdf\")\n",
    "# vs = create_vector_store(docs)\n",
    "# save_vectorstore(vs)\n",
    "# qa = build_qa_chain(load_vectorstore())\n",
    "# print(qa.run(\"What is this document about?\"))\n"
   ]
  },
  {
   "cell_type": "code",
   "execution_count": null,
   "id": "00faf8fa",
   "metadata": {},
   "outputs": [],
   "source": []
  }
 ],
 "metadata": {
  "kernelspec": {
   "display_name": "env",
   "language": "python",
   "name": "python3"
  },
  "language_info": {
   "codemirror_mode": {
    "name": "ipython",
    "version": 3
   },
   "file_extension": ".py",
   "mimetype": "text/x-python",
   "name": "python",
   "nbconvert_exporter": "python",
   "pygments_lexer": "ipython3",
   "version": "3.10.0"
  }
 },
 "nbformat": 4,
 "nbformat_minor": 5
}
